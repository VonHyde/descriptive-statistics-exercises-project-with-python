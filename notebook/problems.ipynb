{
    "cells": [
        {
            "cell_type": "markdown",
            "id": "ac622319",
            "metadata": {},
            "source": [
                "# Descriptive statistics problems"
            ]
        },
        {
            "cell_type": "markdown",
            "id": "aa8993e4",
            "metadata": {},
            "source": [
                "### Exercise 1"
            ]
        },
        {
            "cell_type": "markdown",
            "id": "5e0ab0d5",
            "metadata": {},
            "source": [
                "We will use Numpy to obtain information to describe statistically.\n",
                "\n",
                "- Generate an array of 100 elements following a normal distribution.\n",
                "- Generate an array of 100 elements following a chi-square distribution with 3 degrees of freedom.\n",
                "- Calculate the main metrics and statistical measures that best describe the two vectors."
            ]
        },
        {
            "cell_type": "code",
            "execution_count": 16,
            "id": "34720ab6",
            "metadata": {},
            "outputs": [
                {
                    "name": "stdout",
                    "output_type": "stream",
                    "text": [
                        "Mean:\n",
                        "Mean normal: 0.14130098909450226\n",
                        "Mean chisquare: 2.851406639821777\n",
                        "Median:\n",
                        "Median normal: 0.15199567413033843\n",
                        "Median chisquare: 2.3853481974235695\n",
                        "Std Dev:\n",
                        "Std normal: 0.9235590503813056\n",
                        "Std chisquare: 2.3458846803613413\n",
                        "Variance:\n",
                        "Variance normal: 0.8615770904456758\n",
                        "Variance chisquare: 5.55876255914549\n",
                        "Mode:\n",
                        "Mode normal: 0.37953139721708623\n",
                        "Mode chisquare: 3.856398211017317\n",
                        "Range:\n",
                        "Range normal: 4.594178190542099\n",
                        "Range chisquare: 11.58861459072674\n"
                    ]
                }
            ],
            "source": [
                "# TODO\n",
                "\n",
                "import numpy as np\n",
                "import statistics as stats\n",
                "import random\n",
                "\n",
                "\n",
                "normal = np.random.normal(size=100)\n",
                "chi_s = np.random.chisquare(3, size=100)\n",
                "\n",
                "range_n = max(normal) - min(normal)\n",
                "range_cs = max(chi_s) - min(chi_s)\n",
                "\n",
                "print('Mean:')\n",
                "print(f'Mean normal: {np.mean(normal)}')\n",
                "print(f'Mean chisquare: {np.mean(chi_s)}')\n",
                "\n",
                "print('Median:')\n",
                "print(f'Median normal: {np.median(normal)}')\n",
                "print(f'Median chisquare: {np.median(chi_s)}')\n",
                "\n",
                "print('Std Dev:')\n",
                "print(f'Std normal: {np.std(normal)}')\n",
                "print(f'Std chisquare: {np.std(chi_s)}')\n",
                "\n",
                "print('Variance:')\n",
                "print(f'Variance normal: {stats.variance(normal)}')\n",
                "print(f'Variance chisquare: {stats.variance(chi_s)}')\n",
                "\n",
                "print('Mode:')\n",
                "print(f'Mode normal: {stats.mode(normal)}')\n",
                "print(f'Mode chisquare: {stats.mode(chi_s)}')\n",
                "\n",
                "print('Range:')\n",
                "print(f\"Range normal: {range_n}\")\n",
                "print(f\"Range chisquare: {range_cs}\")\n"
            ]
        },
        {
            "cell_type": "markdown",
            "id": "46c70c3d",
            "metadata": {},
            "source": [
                "### Exercise 2\n",
                "\n",
                "Write a Python program to calculate the standard deviation of the following data:\n",
                "\n",
                "```py\n",
                "data = [4, 2, 5, 8, 6]\n",
                "```"
            ]
        },
        {
            "cell_type": "code",
            "execution_count": 34,
            "id": "d590308e",
            "metadata": {},
            "outputs": [
                {
                    "name": "stdout",
                    "output_type": "stream",
                    "text": [
                        "Muestra: [4, 2, 5, 8, 6]\n",
                        "D. Estandar manual: 2.0\n",
                        "D. Estandar numpy: 2.0\n"
                    ]
                }
            ],
            "source": [
                "# TODO\n",
                "\n",
                "import numpy as np\n",
                "\n",
                "data = [4, 2, 5, 8, 6]\n",
                "\n",
                "def DesviacionEstandar(x):\n",
                "  n= len(data)\n",
                "  media = sum(data)/n\n",
                "  std = (sum((x-media) **2 for x in data)/n)**0.5\n",
                "  return std\n",
                "\n",
                "\n",
                "print(f'Muestra: {data}')\n",
                "print(f'D. Estandar manual: {DesviacionEstandar(data)}')\n",
                "print(f\"D. Estandar numpy: {np.std(data)}\")\n",
                "\n"
            ]
        }
    ],
    "metadata": {
        "interpreter": {
            "hash": "9248718ffe6ce6938b217e69dbcc175ea21f4c6b28a317e96c05334edae734bb"
        },
        "kernelspec": {
            "display_name": "Python 3.9.12 ('ML-BOOTCAMP')",
            "language": "python",
            "name": "python3"
        },
        "language_info": {
            "codemirror_mode": {
                "name": "ipython",
                "version": 3
            },
            "file_extension": ".py",
            "mimetype": "text/x-python",
            "name": "python",
            "nbconvert_exporter": "python",
            "pygments_lexer": "ipython3",
            "version": "3.12.0"
        }
    },
    "nbformat": 4,
    "nbformat_minor": 5
}
